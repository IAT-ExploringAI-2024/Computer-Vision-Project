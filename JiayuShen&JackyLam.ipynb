{
  "nbformat": 4,
  "nbformat_minor": 0,
  "metadata": {
    "colab": {
      "provenance": [],
      "toc_visible": true,
      "authorship_tag": "ABX9TyMHb0SotdECzdWT8km9+EtP",
      "include_colab_link": true
    },
    "kernelspec": {
      "name": "python3",
      "display_name": "Python 3"
    },
    "language_info": {
      "name": "python"
    }
  },
  "cells": [
    {
      "cell_type": "markdown",
      "metadata": {
        "id": "view-in-github",
        "colab_type": "text"
      },
      "source": [
        "<a href=\"https://colab.research.google.com/github/JiayuShen0912/Computer-Vision-Project/blob/JiayuShen%26JackyLam/JiayuShen%26JackyLam.ipynb\" target=\"_parent\"><img src=\"https://colab.research.google.com/assets/colab-badge.svg\" alt=\"Open In Colab\"/></a>"
      ]
    },
    {
      "cell_type": "markdown",
      "source": [
        "<center><h1> <b> Jiayu Shen and Jacky Lam's Computer Vision Project <b> </h1></center>"
      ],
      "metadata": {
        "id": "pNodI_YGu1fD"
      }
    },
    {
      "cell_type": "markdown",
      "source": [
        "Our computer vision project idea is **“Smart Waste Classifier and Management Model”**. We are trying to address **the problem of inadequate waste management and sorting**, which is leading to increased pollution and inefficient recycling processes worldwide. This is an important issue because inadequate waste management and sorting not only contributes to environmental degradation but also results in the loss of valuable materials that could be recycled and reused. Effective waste management is essential for sustainable development, environmental protection and public health. By improving waste separation and recycling processes, we can reduce landfill usage, reduce greenhouse gas emissions, conserve natural resources, and minimize pollution. We are working to develop a smart waste classifier based on computer vision that can automatically identify waste and classify it into predefined categories, such as accurately classifying waste into categories such as organic, recyclable and hazardous. The model we will create can be implemented in smart bins or waste collection centers to simplify the sorting process."
      ],
      "metadata": {
        "id": "X5FZPGj6vtvZ"
      }
    },
    {
      "cell_type": "code",
      "execution_count": null,
      "metadata": {
        "id": "ojcJ4Bwxuwk1"
      },
      "outputs": [],
      "source": []
    },
    {
      "cell_type": "markdown",
      "source": [
        "# Classification"
      ],
      "metadata": {
        "id": "UB1G_m_fv9JK"
      }
    },
    {
      "cell_type": "markdown",
      "source": [],
      "metadata": {
        "id": "nikuEaq_wFT_"
      }
    }
  ]
}