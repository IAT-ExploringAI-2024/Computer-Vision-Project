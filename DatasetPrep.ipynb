{
  "nbformat": 4,
  "nbformat_minor": 0,
  "metadata": {
    "colab": {
      "provenance": [],
      "include_colab_link": true
    },
    "kernelspec": {
      "name": "python3",
      "display_name": "Python 3"
    },
    "language_info": {
      "name": "python"
    }
  },
  "cells": [
    {
      "cell_type": "markdown",
      "metadata": {
        "id": "view-in-github",
        "colab_type": "text"
      },
      "source": [
        "<a href=\"https://colab.research.google.com/github/shaaagri/iat481-cv-proj/blob/wip/DatasetPrep.ipynb\" target=\"_parent\"><img src=\"https://colab.research.google.com/assets/colab-badge.svg\" alt=\"Open In Colab\"/></a>"
      ]
    },
    {
      "cell_type": "markdown",
      "source": [
        "This notebook is based on Week 6 tutorial, we use it to check, enumerate, analyse our datasets in terms of correct labeling and balance, before merging them and doing the training with YOLO."
      ],
      "metadata": {
        "id": "7Le1bvcPKxgI"
      }
    },
    {
      "cell_type": "markdown",
      "source": [
        "Prerequisites:"
      ],
      "metadata": {
        "id": "8jbtjhzVKgid"
      }
    },
    {
      "cell_type": "code",
      "source": [
        "from google.colab import drive\n",
        "drive.mount(\"/content/MyDrive\")"
      ],
      "metadata": {
        "colab": {
          "base_uri": "https://localhost:8080/"
        },
        "id": "EcopSGdNKgSo",
        "outputId": "12d9b7e6-91f4-4a13-e749-b45ac45b9b24"
      },
      "execution_count": 4,
      "outputs": [
        {
          "output_type": "stream",
          "name": "stdout",
          "text": [
            "Mounted at /content/MyDrive\n"
          ]
        }
      ]
    },
    {
      "cell_type": "markdown",
      "source": [
        "The labels for this dataset are stored in YOLO format. i.e.\n",
        "\n",
        "    class_id bbox_x_center bbox_y_center bbox_width bbox_height"
      ],
      "metadata": {
        "id": "4GmdTvHOLWCS"
      }
    },
    {
      "cell_type": "markdown",
      "source": [
        "Our pest animals classes:"
      ],
      "metadata": {
        "id": "H-uKtcl2LiYD"
      }
    },
    {
      "cell_type": "code",
      "source": [
        "class_labels = {\n",
        "    0: \"bear\",\n",
        "    1: \"raccoon\",\n",
        "    2: \"rat\",\n",
        "    3: \"skunk\"\n",
        "}"
      ],
      "metadata": {
        "id": "dqGwCTe9LoIV"
      },
      "execution_count": 382,
      "outputs": []
    },
    {
      "cell_type": "markdown",
      "source": [
        "Import the required libraries:"
      ],
      "metadata": {
        "id": "s5pmk-k3L7EN"
      }
    },
    {
      "cell_type": "code",
      "source": [
        "import cv2\n",
        "import numpy as np\n",
        "import matplotlib.pyplot as plt\n",
        "import random as random\n",
        "import os"
      ],
      "metadata": {
        "id": "BReXY07pL8I8"
      },
      "execution_count": 383,
      "outputs": []
    },
    {
      "cell_type": "markdown",
      "source": [
        "Defining paths to the collected datasets, both found and the ones we prepared ourselves:"
      ],
      "metadata": {
        "id": "cyOlfbRIMwTS"
      }
    },
    {
      "cell_type": "code",
      "source": [
        "dataset_paths = {\n",
        "  \"ours_bear\": \"/content/MyDrive/MyDrive/IAT481/481 CV Project/Datasets/Ours/Bear\",\n",
        "  \"ours_raccoon\": \"/content/MyDrive/MyDrive/IAT481/481 CV Project/Datasets/Ours/Raccoon\",\n",
        "  \"ours_rat\": \"/content/MyDrive/MyDrive/IAT481/481 CV Project/Datasets/Ours/Rat\",\n",
        "  \"ours_skunk\": \"/content/MyDrive/MyDrive/IAT481/481 CV Project/Datasets/Ours/Skunk\",\n",
        "  \"found_bear\": \"/content/MyDrive/MyDrive/IAT481/481 CV Project/Datasets/Found/Bear/Bear.v1i.yolov8\",\n",
        "  \"found_raccoon\": \"/content/MyDrive/MyDrive/IAT481/481 CV Project/Datasets/Found/Raccoon/Raccoon.v38-416x416-resize.yolov8\",\n",
        "  \"found_rat\": \"/content/MyDrive/MyDrive/IAT481/481 CV Project/Datasets/Found/Rat/cc-object-detection.v6i.yolov8\",\n",
        "  \"found_skunk\": \"/content/MyDrive/MyDrive/IAT481/481 CV Project/Datasets/Found/Skunk/Skunk.v1i.yolov8\",\n",
        "}"
      ],
      "metadata": {
        "id": "G2OH8Mc_MsNB"
      },
      "execution_count": 453,
      "outputs": []
    },
    {
      "cell_type": "markdown",
      "source": [
        "Collect all image and label files we've got and save into one data structure:"
      ],
      "metadata": {
        "id": "V-ardTmZHkcm"
      }
    },
    {
      "cell_type": "code",
      "source": [
        "def enumerate_dataset(dataset_id, dataset_path):\n",
        "  image_paths, label_paths = {}, {}\n",
        "\n",
        "  try:\n",
        "    # sorting the directories listings so that images' and labels' positions in lists match\n",
        "    image_paths['train'] = [os.path.join(dataset_path, \"train\", \"images\", image_filename) for image_filename in sorted(os.listdir(os.path.join(dataset_path, \"train\", \"images\")))]\n",
        "    image_paths['valid'] = [os.path.join(dataset_path, \"valid\", \"images\", image_filename) for image_filename in sorted(os.listdir(os.path.join(dataset_path, \"valid\", \"images\")))]\n",
        "    image_paths['test'] = [os.path.join(dataset_path, \"test\", \"images\", image_filename) for image_filename in sorted(os.listdir(os.path.join(dataset_path, \"test\", \"images\")))]\n",
        "  except FileNotFoundError:\n",
        "    pass\n",
        "\n",
        "  try:\n",
        "    label_paths['train'] = [os.path.join(dataset_path, \"train\", \"labels\", image_filename) for image_filename in sorted(os.listdir(os.path.join(dataset_path, \"train\", \"labels\")))]\n",
        "    label_paths['valid'] = [os.path.join(dataset_path, \"valid\", \"labels\", image_filename) for image_filename in sorted(os.listdir(os.path.join(dataset_path, \"valid\", \"labels\")))]\n",
        "    label_paths['test'] = [os.path.join(dataset_path, \"test\", \"labels\", image_filename) for image_filename in sorted(os.listdir(os.path.join(dataset_path, \"test\", \"labels\")))]\n",
        "  except FileNotFoundError:\n",
        "    pass\n",
        "\n",
        "  return image_paths, label_paths\n",
        "\n",
        "def enumerate_dataset_multi(dataset_paths):\n",
        "  return {dataset_id: enumerate_dataset(dataset_id, dataset_paths[dataset_id]) for dataset_id in dataset_paths}"
      ],
      "metadata": {
        "id": "MJY5CW1ZL_nw"
      },
      "execution_count": 469,
      "outputs": []
    },
    {
      "cell_type": "code",
      "source": [
        "datasets = enumerate_dataset_multi(dataset_paths)"
      ],
      "metadata": {
        "id": "yJaxxSXlUjTS"
      },
      "execution_count": 470,
      "outputs": []
    },
    {
      "cell_type": "code",
      "source": [
        "# Function to easy count the contents of a dataset by class across 'train', 'valid', and 'test' parts\n",
        "def count_samples(dataset):\n",
        "  sample_counts = {}\n",
        "\n",
        "  for k, v in dataset.items():\n",
        "    sample_counts[k] = [len(v['images']['train']), len(v['images']['valid']), len(v['images']['test'])]\n",
        "\n",
        "  return sample_counts\n",
        "\n",
        "# create a writeable place in the dataset dictionary for a class\n",
        "def initialize_class_in_dataset(cl, dataset):\n",
        "  dataset[cl] = {}\n",
        "  dataset[cl]['images'] = {}\n",
        "  dataset[cl]['images']['train'] = []\n",
        "  dataset[cl]['images']['valid'] = []\n",
        "  dataset[cl]['images']['test'] = []\n",
        "  dataset[cl]['labels'] = {}\n",
        "  dataset[cl]['labels']['train'] = []\n",
        "  dataset[cl]['labels']['valid'] = []\n",
        "  dataset[cl]['labels']['test'] = []"
      ],
      "metadata": {
        "id": "H0R4-tEAF7sc"
      },
      "execution_count": 471,
      "outputs": []
    },
    {
      "cell_type": "markdown",
      "source": [
        "Merging all the data we have into N strict classes (defined earlier). Doing our best with the totality of data we've got to make sure the classes are balanced."
      ],
      "metadata": {
        "id": "lBpRnSb9Hobs"
      }
    },
    {
      "cell_type": "code",
      "source": [
        "dataset_ids = dataset_paths.keys()\n",
        "\n",
        "merged_dataset = {}\n",
        "\n",
        "for cl in class_labels.values():\n",
        "  for id in dataset_ids:\n",
        "    if cl in id:\n",
        "\n",
        "      if cl not in merged_dataset:\n",
        "        initialize_class_in_dataset(cl, merged_dataset)\n",
        "\n",
        "      # ignoring KeyError, as some datasets may have only a 'train' folder, but not the others\n",
        "      try:\n",
        "        merged_dataset[cl]['images']['train'] += datasets[id][0]['train']\n",
        "        merged_dataset[cl]['labels']['train'] += datasets[id][1]['train']\n",
        "      except KeyError:\n",
        "        pass\n",
        "\n",
        "      try:\n",
        "        merged_dataset[cl]['images']['valid'] += datasets[id][0]['valid']\n",
        "        merged_dataset[cl]['labels']['valid'] += datasets[id][1]['valid']\n",
        "      except KeyError:\n",
        "        pass\n",
        "\n",
        "      try:\n",
        "        merged_dataset[cl]['images']['test'] += datasets[id][0]['test']\n",
        "        merged_dataset[cl]['labels']['test'] += datasets[id][1]['test']\n",
        "      except KeyError:\n",
        "        pass\n",
        "\n",
        "# undersampling all classes to match the lowest amount of train samples available - this will result in the balance we look for\n",
        "train_samples_count = [v[0] for k, v in count_samples(merged_dataset).items()]\n",
        "min_train_samples_count = np.array(train_samples_count).min()\n",
        "\n",
        "balanced_dataset = {}\n",
        "\n",
        "for cl, v in merged_dataset.items():\n",
        "  if cl not in balanced_dataset:\n",
        "    initialize_class_in_dataset(cl, balanced_dataset)\n",
        "\n",
        "  # Fill the training set, capping at min_train_samples_count\n",
        "  balanced_dataset[cl]['images']['train'] = v['images']['train'][:min_train_samples_count]\n",
        "  balanced_dataset[cl]['labels']['train'] = v['labels']['train'][:min_train_samples_count]\n",
        "\n",
        "  # Take out the samples from the original merged dataset\n",
        "  merged_dataset[cl]['images']['train'] = v['images']['train'][min_train_samples_count:]\n",
        "  merged_dataset[cl]['labels']['train'] = v['labels']['train'][min_train_samples_count:]\n",
        "\n",
        "\n",
        "sample_pool = {}\n",
        "\n",
        "# try to reach 80/10/10 ratios for our train-valid-test split\n",
        "valid_test_target_sample_count = round(min_train_samples_count * 0.125)\n",
        "\n",
        "#print(valid_test_target_sample_count)\n",
        "\n",
        "for cl, data in merged_dataset.items():\n",
        "  # dumping all leftover samples into one list per class\n",
        "  sample_pool = {}\n",
        "  sample_pool['images'] = []\n",
        "  sample_pool['labels'] = []\n",
        "\n",
        "  sample_pool['images'] += [i for i in data['images']['train']]\n",
        "  sample_pool['images'] += [i for i in data['images']['valid']]\n",
        "  sample_pool['images'] += [i for i in data['images']['test']]\n",
        "  sample_pool['labels'] += [l for l in data['labels']['train']]\n",
        "  sample_pool['labels'] += [l for l in data['labels']['valid']]\n",
        "  sample_pool['labels'] += [l for l in data['labels']['test']]\n",
        "\n",
        "  n = valid_test_target_sample_count\n",
        "\n",
        "  # finally, populating our validation and testing set\n",
        "  balanced_dataset[cl]['images']['valid'] = sample_pool['images'][:n]\n",
        "  balanced_dataset[cl]['labels']['valid'] = sample_pool['labels'][:n]\n",
        "  balanced_dataset[cl]['images']['test'] = sample_pool['images'][n:n+n]\n",
        "  balanced_dataset[cl]['labels']['test'] = sample_pool['labels'][n:n+n]"
      ],
      "metadata": {
        "id": "kPJAuCzo7Idi"
      },
      "execution_count": 472,
      "outputs": []
    },
    {
      "cell_type": "markdown",
      "source": [
        "Checking the train-valid-test distribution of samples in our final, merged and balanced dataset:"
      ],
      "metadata": {
        "id": "QyI5mrrBgKgb"
      }
    },
    {
      "cell_type": "code",
      "source": [
        "print(count_samples(balanced_dataset))"
      ],
      "metadata": {
        "colab": {
          "base_uri": "https://localhost:8080/"
        },
        "id": "tUWVuD6JgZKM",
        "outputId": "3c1c489f-f99c-4faa-9624-11a64c7b1942"
      },
      "execution_count": 473,
      "outputs": [
        {
          "output_type": "stream",
          "name": "stdout",
          "text": [
            "{'bear': [162, 20, 20], 'raccoon': [162, 20, 20], 'rat': [162, 20, 20], 'skunk': [162, 20, 20]}\n"
          ]
        }
      ]
    },
    {
      "cell_type": "markdown",
      "source": [
        "Awesome! Now, just let's make sure the dataset does not require any further cleaning, meaning there are no images with missing labels, or orphan labels that do not belong to any image:"
      ],
      "metadata": {
        "id": "nnmkXwbSg1bT"
      }
    },
    {
      "cell_type": "code",
      "source": [
        "def dataset_cleanness_check(dataset):\n",
        "  image_files = set()\n",
        "  label_files = set()\n",
        "\n",
        "  for cl, data in dataset.items():\n",
        "    for subset_type in ['train', 'valid', 'test']:\n",
        "      image_files.update({i.split(\"/\")[-1].split(\".\")[0] for i in data['images'][subset_type]})\n",
        "      label_files.update({l.split(\"/\")[-1].split(\".\")[0] for l in data['labels'][subset_type]})\n",
        "\n",
        "  print(f\"Extra images (without corresponding labels): {image_files - label_files}\")\n",
        "  print(f\"Extra labels (without corresponding images): {label_files - image_files}\")"
      ],
      "metadata": {
        "id": "OMK4Hm26hNcO"
      },
      "execution_count": 474,
      "outputs": []
    },
    {
      "cell_type": "code",
      "source": [
        "dataset_cleanness_check(balanced_dataset)"
      ],
      "metadata": {
        "colab": {
          "base_uri": "https://localhost:8080/"
        },
        "id": "rpXCmI_0hfHS",
        "outputId": "56d762de-6370-4df4-c9c5-6bcb60f7dc80"
      },
      "execution_count": 475,
      "outputs": [
        {
          "output_type": "stream",
          "name": "stdout",
          "text": [
            "Extra images (without corresponding labels): set()\n",
            "Extra labels (without corresponding images): set()\n"
          ]
        }
      ]
    },
    {
      "cell_type": "markdown",
      "source": [
        "There are none extra images or labels! Great. Now we are ready to save the merged dataset on disk (till this point we have been just manipulating file references) and proceed to training."
      ],
      "metadata": {
        "id": "se-PmSsilSpO"
      }
    },
    {
      "cell_type": "code",
      "source": [
        "#import os\n",
        "#run it once for making directories\n",
        "\n",
        "final_dataset_root = '/content/MyDrive/MyDrive/IAT481/481 CV Project/Datasets/Final'\n",
        "\n",
        "os.makedirs('/content/MyDrive/MyDrive/IAT481/481 CV Project/Datasets/Final', exist_ok=True)\n",
        "os.makedirs('/content/MyDrive/MyDrive/IAT481/481 CV Project/Datasets/Final/train', exist_ok=True)\n",
        "os.makedirs('/content/MyDrive/MyDrive/IAT481/481 CV Project/Datasets/Final/train/images', exist_ok=True)\n",
        "os.makedirs('/content/MyDrive/MyDrive/IAT481/481 CV Project/Datasets/Final/train/labels', exist_ok=True)\n",
        "os.makedirs('/content/MyDrive/MyDrive/IAT481/481 CV Project/Datasets/Final/valid', exist_ok=True)\n",
        "os.makedirs('/content/MyDrive/MyDrive/IAT481/481 CV Project/Datasets/Final/valid/images', exist_ok=True)\n",
        "os.makedirs('/content/MyDrive/MyDrive/IAT481/481 CV Project/Datasets/Final/valid/labels', exist_ok=True)\n",
        "os.makedirs('/content/MyDrive/MyDrive/IAT481/481 CV Project/Datasets/Final/test', exist_ok=True)\n",
        "os.makedirs('/content/MyDrive/MyDrive/IAT481/481 CV Project/Datasets/Final/test/images', exist_ok=True)\n",
        "os.makedirs('/content/MyDrive/MyDrive/IAT481/481 CV Project/Datasets/Final/test/labels', exist_ok=True)"
      ],
      "metadata": {
        "id": "cq2n4N2vl2Sf"
      },
      "execution_count": 476,
      "outputs": []
    },
    {
      "cell_type": "code",
      "source": [
        "from PIL import Image\n",
        "\n",
        "def save_merged_dataset():\n",
        "  for cl, data in balanced_dataset.items():\n",
        "    final_dataset_root\n",
        "\n",
        "    for subset_type in ['train', 'valid', 'test']:\n",
        "      for file_category in ['images', 'labels']:\n",
        "        for image_file in data[file_category][subset_type]:\n",
        "          if file_category == 'images':\n",
        "            if image_file.endswith(\".jpg\"):\n",
        "              image = Image.open(image_file)\n",
        "              #image = image.convert(\"RGB\")\n",
        "\n",
        "              new_filename = os.path.splitext(os.path.basename(image_file))[0] + \".jpg\"\n",
        "              print(os.path.join(final_dataset_root, subset_type, \"images\", new_filename))\n",
        "\n",
        "              #image.save(os.path.join(final_dataset_root, subset_type, \"images\", new_filename))\n",
        "\n",
        "\n",
        "\n",
        "\n"
      ],
      "metadata": {
        "id": "DHF-EVAxn9gC"
      },
      "execution_count": 477,
      "outputs": []
    },
    {
      "cell_type": "code",
      "source": [
        "save_merged_dataset()"
      ],
      "metadata": {
        "id": "hPBZ3lOYxNqJ",
        "outputId": "e82b1c2c-c5fe-41d3-e325-217ceefd353d",
        "colab": {
          "base_uri": "https://localhost:8080/",
          "height": 954
        }
      },
      "execution_count": 478,
      "outputs": [
        {
          "output_type": "stream",
          "name": "stdout",
          "text": [
            "/content/MyDrive/MyDrive/IAT481/481 CV Project/Datasets/Final/train/images/170925_abc_social_polite_bears_16x9_992.jpg\n",
            "/content/MyDrive/MyDrive/IAT481/481 CV Project/Datasets/Final/train/images/31719703_web1_201126-CAN-wild-safe-bear_1.jpg\n",
            "/content/MyDrive/MyDrive/IAT481/481 CV Project/Datasets/Final/train/images/7h2u6tj3h3_brownbear_hero.jpg\n",
            "/content/MyDrive/MyDrive/IAT481/481 CV Project/Datasets/Final/train/images/84feb799-0287-4679-abb5-5f176d841770_750x422.jpg\n",
            "/content/MyDrive/MyDrive/IAT481/481 CV Project/Datasets/Final/train/images/AUG_170925_abc_social_polite_bears_16x9_992.jpg\n",
            "/content/MyDrive/MyDrive/IAT481/481 CV Project/Datasets/Final/train/images/AUG_84feb799-0287-4679-abb5-5f176d841770_750x422.jpg\n",
            "/content/MyDrive/MyDrive/IAT481/481 CV Project/Datasets/Final/train/images/AUG_bear-cub-3-2000-8b30852778c64809a47910f3c4d0e1b6.jpg\n",
            "/content/MyDrive/MyDrive/IAT481/481 CV Project/Datasets/Final/train/images/AUG_c23968ec-866f-41fa-9ca5-cb624e2dc782-jumbo3x1_bears1.jpg\n",
            "/content/MyDrive/MyDrive/IAT481/481 CV Project/Datasets/Final/train/images/AUG_images (1)_weiufhwihf.jpg\n",
            "/content/MyDrive/MyDrive/IAT481/481 CV Project/Datasets/Final/train/images/Bear-family-in-Bristol-2.jpg\n",
            "/content/MyDrive/MyDrive/IAT481/481 CV Project/Datasets/Final/train/images/bear-cub-3-2000-8b30852778c64809a47910f3c4d0e1b6.jpg\n",
            "/content/MyDrive/MyDrive/IAT481/481 CV Project/Datasets/Final/train/images/bears.jpg\n",
            "/content/MyDrive/MyDrive/IAT481/481 CV Project/Datasets/Final/train/images/blackbear-7c06301713c14fe699b4f4bcf64ac53b.jpg\n",
            "/content/MyDrive/MyDrive/IAT481/481 CV Project/Datasets/Final/train/images/c23968ec-866f-41fa-9ca5-cb624e2dc782-jumbo3x1_bears1.jpg\n",
            "/content/MyDrive/MyDrive/IAT481/481 CV Project/Datasets/Final/train/images/download (1)_xvnepfjk.jpg\n",
            "/content/MyDrive/MyDrive/IAT481/481 CV Project/Datasets/Final/train/images/download (3)_xvnepfjka.jpg\n",
            "/content/MyDrive/MyDrive/IAT481/481 CV Project/Datasets/Final/train/images/download (4)_pwpa.jpg\n",
            "/content/MyDrive/MyDrive/IAT481/481 CV Project/Datasets/Final/train/images/hero3_1032346_final.jpg\n",
            "/content/MyDrive/MyDrive/IAT481/481 CV Project/Datasets/Final/train/images/hqdefault_werogwpgjo.jpg\n",
            "/content/MyDrive/MyDrive/IAT481/481 CV Project/Datasets/Final/train/images/images (1)_okwfkopkpwoe.jpg\n",
            "/content/MyDrive/MyDrive/IAT481/481 CV Project/Datasets/Final/train/images/000000000502_jpg.rf.83db1248a2f3a631680a3736c91fb03c.jpg\n",
            "/content/MyDrive/MyDrive/IAT481/481 CV Project/Datasets/Final/train/images/000000000502_jpg.rf.b2e7fe9a42524b6690e36c77fbf6c8a1.jpg\n",
            "/content/MyDrive/MyDrive/IAT481/481 CV Project/Datasets/Final/train/images/000000001442_jpg.rf.0889b9d4c576db90b43b4a85144d3c81.jpg\n",
            "/content/MyDrive/MyDrive/IAT481/481 CV Project/Datasets/Final/train/images/000000001442_jpg.rf.9264ece1d401414278a73b7ddd9c67c5.jpg\n",
            "/content/MyDrive/MyDrive/IAT481/481 CV Project/Datasets/Final/train/images/000000002619_jpg.rf.1fb22dfd792a99f557e0bbe031c76e81.jpg\n",
            "/content/MyDrive/MyDrive/IAT481/481 CV Project/Datasets/Final/train/images/000000002619_jpg.rf.502099461fc0662f60933d739f5c63fd.jpg\n",
            "/content/MyDrive/MyDrive/IAT481/481 CV Project/Datasets/Final/train/images/000000003398_jpg.rf.1a25052d5cdec9d25f5b3f45b0343ebf.jpg\n",
            "/content/MyDrive/MyDrive/IAT481/481 CV Project/Datasets/Final/train/images/000000003398_jpg.rf.81b9d8ac06fd326ce38980db4e323069.jpg\n",
            "/content/MyDrive/MyDrive/IAT481/481 CV Project/Datasets/Final/train/images/000000003481_jpg.rf.a732aa2d1ed6c074a4cc89dad5aba72f.jpg\n",
            "/content/MyDrive/MyDrive/IAT481/481 CV Project/Datasets/Final/train/images/000000003481_jpg.rf.d11a4fedc928d1e8d3daaae4d6878fe3.jpg\n",
            "/content/MyDrive/MyDrive/IAT481/481 CV Project/Datasets/Final/train/images/000000004338_jpg.rf.aa8416947f6e24be4da0920bc9e5ec88.jpg\n",
            "/content/MyDrive/MyDrive/IAT481/481 CV Project/Datasets/Final/train/images/000000004338_jpg.rf.d73a870254f9457ae77811c91acdf811.jpg\n",
            "/content/MyDrive/MyDrive/IAT481/481 CV Project/Datasets/Final/train/images/000000005184_jpg.rf.071ba52b1719eaed394d8b8f11f5c5a3.jpg\n",
            "/content/MyDrive/MyDrive/IAT481/481 CV Project/Datasets/Final/train/images/000000005184_jpg.rf.a5d12e931c73ecd9a12ad57532b28ab7.jpg\n",
            "/content/MyDrive/MyDrive/IAT481/481 CV Project/Datasets/Final/train/images/000000005745_jpg.rf.92d8db4160b659e41a7742e21048bda3.jpg\n",
            "/content/MyDrive/MyDrive/IAT481/481 CV Project/Datasets/Final/train/images/000000005745_jpg.rf.c8b2b34ec478dfc32501211a763afac5.jpg\n",
            "/content/MyDrive/MyDrive/IAT481/481 CV Project/Datasets/Final/train/images/000000005785_jpg.rf.7ec59229bb87fe6ca5b61330cd1cef57.jpg\n"
          ]
        },
        {
          "output_type": "error",
          "ename": "KeyboardInterrupt",
          "evalue": "",
          "traceback": [
            "\u001b[0;31m---------------------------------------------------------------------------\u001b[0m",
            "\u001b[0;31mKeyboardInterrupt\u001b[0m                         Traceback (most recent call last)",
            "\u001b[0;32m<ipython-input-478-cd76c8d4daed>\u001b[0m in \u001b[0;36m<cell line: 1>\u001b[0;34m()\u001b[0m\n\u001b[0;32m----> 1\u001b[0;31m \u001b[0msave_merged_dataset\u001b[0m\u001b[0;34m(\u001b[0m\u001b[0;34m)\u001b[0m\u001b[0;34m\u001b[0m\u001b[0;34m\u001b[0m\u001b[0m\n\u001b[0m",
            "\u001b[0;32m<ipython-input-477-b807df4ddf24>\u001b[0m in \u001b[0;36msave_merged_dataset\u001b[0;34m()\u001b[0m\n\u001b[1;32m     13\u001b[0m               \u001b[0;31m#image = image.convert(\"RGB\")\u001b[0m\u001b[0;34m\u001b[0m\u001b[0;34m\u001b[0m\u001b[0m\n\u001b[1;32m     14\u001b[0m \u001b[0;34m\u001b[0m\u001b[0m\n\u001b[0;32m---> 15\u001b[0;31m               \u001b[0mnew_filename\u001b[0m \u001b[0;34m=\u001b[0m \u001b[0mos\u001b[0m\u001b[0;34m.\u001b[0m\u001b[0mpath\u001b[0m\u001b[0;34m.\u001b[0m\u001b[0msplitext\u001b[0m\u001b[0;34m(\u001b[0m\u001b[0mos\u001b[0m\u001b[0;34m.\u001b[0m\u001b[0mpath\u001b[0m\u001b[0;34m.\u001b[0m\u001b[0mbasename\u001b[0m\u001b[0;34m(\u001b[0m\u001b[0mimage_file\u001b[0m\u001b[0;34m)\u001b[0m\u001b[0;34m)\u001b[0m\u001b[0;34m[\u001b[0m\u001b[0;36m0\u001b[0m\u001b[0;34m]\u001b[0m \u001b[0;34m+\u001b[0m \u001b[0;34m\".jpg\"\u001b[0m\u001b[0;34m\u001b[0m\u001b[0;34m\u001b[0m\u001b[0m\n\u001b[0m\u001b[1;32m     16\u001b[0m               \u001b[0mprint\u001b[0m\u001b[0;34m(\u001b[0m\u001b[0mos\u001b[0m\u001b[0;34m.\u001b[0m\u001b[0mpath\u001b[0m\u001b[0;34m.\u001b[0m\u001b[0mjoin\u001b[0m\u001b[0;34m(\u001b[0m\u001b[0mfinal_dataset_root\u001b[0m\u001b[0;34m,\u001b[0m \u001b[0msubset_type\u001b[0m\u001b[0;34m,\u001b[0m \u001b[0;34m\"images\"\u001b[0m\u001b[0;34m,\u001b[0m \u001b[0mnew_filename\u001b[0m\u001b[0;34m)\u001b[0m\u001b[0;34m)\u001b[0m\u001b[0;34m\u001b[0m\u001b[0;34m\u001b[0m\u001b[0m\n\u001b[1;32m     17\u001b[0m \u001b[0;34m\u001b[0m\u001b[0m\n",
            "\u001b[0;32m/usr/lib/python3.10/posixpath.py\u001b[0m in \u001b[0;36mbasename\u001b[0;34m(p)\u001b[0m\n\u001b[1;32m    138\u001b[0m \u001b[0;31m# Return the tail (basename) part of a path, same as split(path)[1].\u001b[0m\u001b[0;34m\u001b[0m\u001b[0;34m\u001b[0m\u001b[0m\n\u001b[1;32m    139\u001b[0m \u001b[0;34m\u001b[0m\u001b[0m\n\u001b[0;32m--> 140\u001b[0;31m \u001b[0;32mdef\u001b[0m \u001b[0mbasename\u001b[0m\u001b[0;34m(\u001b[0m\u001b[0mp\u001b[0m\u001b[0;34m)\u001b[0m\u001b[0;34m:\u001b[0m\u001b[0;34m\u001b[0m\u001b[0;34m\u001b[0m\u001b[0m\n\u001b[0m\u001b[1;32m    141\u001b[0m     \u001b[0;34m\"\"\"Returns the final component of a pathname\"\"\"\u001b[0m\u001b[0;34m\u001b[0m\u001b[0;34m\u001b[0m\u001b[0m\n\u001b[1;32m    142\u001b[0m     \u001b[0mp\u001b[0m \u001b[0;34m=\u001b[0m \u001b[0mos\u001b[0m\u001b[0;34m.\u001b[0m\u001b[0mfspath\u001b[0m\u001b[0;34m(\u001b[0m\u001b[0mp\u001b[0m\u001b[0;34m)\u001b[0m\u001b[0;34m\u001b[0m\u001b[0;34m\u001b[0m\u001b[0m\n",
            "\u001b[0;31mKeyboardInterrupt\u001b[0m: "
          ]
        }
      ]
    }
  ]
}