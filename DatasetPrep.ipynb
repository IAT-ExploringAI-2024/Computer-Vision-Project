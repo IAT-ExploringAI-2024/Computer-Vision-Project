{
  "nbformat": 4,
  "nbformat_minor": 0,
  "metadata": {
    "colab": {
      "provenance": [],
      "include_colab_link": true
    },
    "kernelspec": {
      "name": "python3",
      "display_name": "Python 3"
    },
    "language_info": {
      "name": "python"
    }
  },
  "cells": [
    {
      "cell_type": "markdown",
      "metadata": {
        "id": "view-in-github",
        "colab_type": "text"
      },
      "source": [
        "<a href=\"https://colab.research.google.com/github/shaaagri/iat481-cv-proj/blob/wip/DatasetPrep.ipynb\" target=\"_parent\"><img src=\"https://colab.research.google.com/assets/colab-badge.svg\" alt=\"Open In Colab\"/></a>"
      ]
    },
    {
      "cell_type": "markdown",
      "source": [
        "This notebook is based on Week 6 tutorial, we use it to check, enumerate, analyse our datasets in terms of correct labeling and balance, before merging them and doing the training with YOLO."
      ],
      "metadata": {
        "id": "7Le1bvcPKxgI"
      }
    },
    {
      "cell_type": "markdown",
      "source": [
        "Prerequisites:"
      ],
      "metadata": {
        "id": "8jbtjhzVKgid"
      }
    },
    {
      "cell_type": "code",
      "source": [
        "from google.colab import drive\n",
        "drive.mount(\"/content/MyDrive\")"
      ],
      "metadata": {
        "colab": {
          "base_uri": "https://localhost:8080/"
        },
        "id": "EcopSGdNKgSo",
        "outputId": "e2b6a476-aacc-454e-cb78-e80d3d715d06"
      },
      "execution_count": 5,
      "outputs": [
        {
          "output_type": "stream",
          "name": "stdout",
          "text": [
            "Mounted at /content/MyDrive\n"
          ]
        }
      ]
    },
    {
      "cell_type": "markdown",
      "source": [
        "The labels for this dataset are stored in YOLO format. i.e.\n",
        "\n",
        "    class_id bbox_x_center bbox_y_center bbox_width bbox_height"
      ],
      "metadata": {
        "id": "4GmdTvHOLWCS"
      }
    },
    {
      "cell_type": "markdown",
      "source": [
        "Our pest animals classes:"
      ],
      "metadata": {
        "id": "H-uKtcl2LiYD"
      }
    },
    {
      "cell_type": "code",
      "source": [
        "class_labels = {\n",
        "    0: \"bear\",\n",
        "    1: \"raccoon\",\n",
        "    2: \"rat\",\n",
        "    3: \"skunk\"\n",
        "}"
      ],
      "metadata": {
        "id": "dqGwCTe9LoIV"
      },
      "execution_count": 6,
      "outputs": []
    },
    {
      "cell_type": "markdown",
      "source": [
        "Import the required libraries:"
      ],
      "metadata": {
        "id": "s5pmk-k3L7EN"
      }
    },
    {
      "cell_type": "code",
      "source": [
        "import cv2\n",
        "import matplotlib.pyplot as plt\n",
        "import random as random\n",
        "import os"
      ],
      "metadata": {
        "id": "BReXY07pL8I8"
      },
      "execution_count": 7,
      "outputs": []
    },
    {
      "cell_type": "markdown",
      "source": [
        "Defining paths to the collected datasets, both found and the ones we prepared ourselves:"
      ],
      "metadata": {
        "id": "cyOlfbRIMwTS"
      }
    },
    {
      "cell_type": "code",
      "source": [
        "dataset_paths = {\n",
        "  #\"found_bear\": \"/content/MyDrive/MyDrive/IAT481/481 CV Project/Datasets/Found/Bear/Bear.v1i.yolov8\",\n",
        "  #\"found_raccoon\": \"/content/MyDrive/MyDrive/IAT481/481 CV Project/Datasets/Found/Raccoon/Raccoon.v38-416x416-resize.yolov8\",\n",
        "  #\"found_rat\": \"/content/MyDrive/MyDrive/IAT481/481 CV Project/Datasets/Found/Rat\",\n",
        "  #\"found_skunk\": \"/content/MyDrive/MyDrive/IAT481/481 CV Project/Datasets/Found/Skunk\",\n",
        "  \"ours_bear\": \"/content/MyDrive/MyDrive/IAT481/481 CV Project/Datasets/Ours/Bear\",\n",
        "  \"ours_raccoon\": \"/content/MyDrive/MyDrive/IAT481/481 CV Project/Datasets/Ours/Raccoon\",\n",
        "  \"ours_rat\": \"/content/MyDrive/MyDrive/IAT481/481 CV Project/Datasets/Ours/Rat\",\n",
        "  \"ours_skunk\": \"/content/MyDrive/MyDrive/IAT481/481 CV Project/Datasets/Ours/Skunk\",\n",
        "}"
      ],
      "metadata": {
        "id": "G2OH8Mc_MsNB"
      },
      "execution_count": 17,
      "outputs": []
    },
    {
      "cell_type": "code",
      "source": [
        "def enumerate_dataset(dataset_path):\n",
        "  image_paths = [os.path.join(dataset_path, \"images\", image_filename) for image_filename in os.listdir(os.path.join(dataset_path, \"images\"))]\n",
        "  label_paths = [os.path.join(dataset_path, \"labels\", label_filename) for label_filename in os.listdir(os.path.join(dataset_path, \"labels\"))]\n",
        "\n",
        "  return image_paths, label_paths\n",
        "\n",
        "def enumerate_dataset_multi(dataset_paths):\n",
        "  return {dataset_path: enumerate_dataset(dataset_paths[dataset_path]) for dataset_path in dataset_paths}"
      ],
      "metadata": {
        "id": "MJY5CW1ZL_nw"
      },
      "execution_count": 21,
      "outputs": []
    },
    {
      "cell_type": "code",
      "source": [
        "enumerate_dataset_multi(dataset_paths)"
      ],
      "metadata": {
        "colab": {
          "base_uri": "https://localhost:8080/"
        },
        "id": "yJaxxSXlUjTS",
        "outputId": "bfe2b792-71a0-4510-e28f-d128cb89f38e"
      },
      "execution_count": 22,
      "outputs": [
        {
          "output_type": "execute_result",
          "data": {
            "text/plain": [
              "{'ours_bear': (['/content/MyDrive/MyDrive/IAT481/481 CV Project/Datasets/Ours/Bear/images/170925_abc_social_polite_bears_16x9_992.jpg',\n",
              "   '/content/MyDrive/MyDrive/IAT481/481 CV Project/Datasets/Ours/Bear/images/images (1).jpg',\n",
              "   '/content/MyDrive/MyDrive/IAT481/481 CV Project/Datasets/Ours/Bear/images/download (4).jpg',\n",
              "   '/content/MyDrive/MyDrive/IAT481/481 CV Project/Datasets/Ours/Bear/images/download (3).jpg',\n",
              "   '/content/MyDrive/MyDrive/IAT481/481 CV Project/Datasets/Ours/Bear/images/Bear-family-in-Bristol-2.webp',\n",
              "   '/content/MyDrive/MyDrive/IAT481/481 CV Project/Datasets/Ours/Bear/images/hero3_1032346_final.jpg',\n",
              "   '/content/MyDrive/MyDrive/IAT481/481 CV Project/Datasets/Ours/Bear/images/download (1).jpg',\n",
              "   '/content/MyDrive/MyDrive/IAT481/481 CV Project/Datasets/Ours/Bear/images/hqdefault.jpg',\n",
              "   '/content/MyDrive/MyDrive/IAT481/481 CV Project/Datasets/Ours/Bear/images/7h2u6tj3h3_brownbear_hero.jpg',\n",
              "   '/content/MyDrive/MyDrive/IAT481/481 CV Project/Datasets/Ours/Bear/images/bear-cub-3-2000-8b30852778c64809a47910f3c4d0e1b6.jpg',\n",
              "   '/content/MyDrive/MyDrive/IAT481/481 CV Project/Datasets/Ours/Bear/images/84feb799-0287-4679-abb5-5f176d841770_750x422.jpg',\n",
              "   '/content/MyDrive/MyDrive/IAT481/481 CV Project/Datasets/Ours/Bear/images/AUG_c23968ec-866f-41fa-9ca5-cb624e2dc782-jumbo3x1_bears1.jpg',\n",
              "   '/content/MyDrive/MyDrive/IAT481/481 CV Project/Datasets/Ours/Bear/images/AUG_images (1).jpg',\n",
              "   '/content/MyDrive/MyDrive/IAT481/481 CV Project/Datasets/Ours/Bear/images/AUG_bear-cub-3-2000-8b30852778c64809a47910f3c4d0e1b6.jpg',\n",
              "   '/content/MyDrive/MyDrive/IAT481/481 CV Project/Datasets/Ours/Bear/images/31719703_web1_201126-CAN-wild-safe-bear_1.jpg',\n",
              "   '/content/MyDrive/MyDrive/IAT481/481 CV Project/Datasets/Ours/Bear/images/AUG_84feb799-0287-4679-abb5-5f176d841770_750x422.jpg',\n",
              "   '/content/MyDrive/MyDrive/IAT481/481 CV Project/Datasets/Ours/Bear/images/blackbear-7c06301713c14fe699b4f4bcf64ac53b.jpg',\n",
              "   '/content/MyDrive/MyDrive/IAT481/481 CV Project/Datasets/Ours/Bear/images/c23968ec-866f-41fa-9ca5-cb624e2dc782-jumbo3x1_bears1.jpg',\n",
              "   '/content/MyDrive/MyDrive/IAT481/481 CV Project/Datasets/Ours/Bear/images/AUG_170925_abc_social_polite_bears_16x9_992.jpg',\n",
              "   '/content/MyDrive/MyDrive/IAT481/481 CV Project/Datasets/Ours/Bear/images/bears.jpg'],\n",
              "  ['/content/MyDrive/MyDrive/IAT481/481 CV Project/Datasets/Ours/Bear/labels/c23968ec-866f-41fa-9ca5-cb624e2dc782-jumbo3x1_bears1.txt',\n",
              "   '/content/MyDrive/MyDrive/IAT481/481 CV Project/Datasets/Ours/Bear/labels/bears.txt',\n",
              "   '/content/MyDrive/MyDrive/IAT481/481 CV Project/Datasets/Ours/Bear/labels/download (1).txt',\n",
              "   '/content/MyDrive/MyDrive/IAT481/481 CV Project/Datasets/Ours/Bear/labels/Bear-family-in-Bristol-2.txt',\n",
              "   '/content/MyDrive/MyDrive/IAT481/481 CV Project/Datasets/Ours/Bear/labels/download (3).txt',\n",
              "   '/content/MyDrive/MyDrive/IAT481/481 CV Project/Datasets/Ours/Bear/labels/blackbear-7c06301713c14fe699b4f4bcf64ac53b.txt',\n",
              "   '/content/MyDrive/MyDrive/IAT481/481 CV Project/Datasets/Ours/Bear/labels/download (4).txt',\n",
              "   '/content/MyDrive/MyDrive/IAT481/481 CV Project/Datasets/Ours/Bear/labels/images (1).txt',\n",
              "   '/content/MyDrive/MyDrive/IAT481/481 CV Project/Datasets/Ours/Bear/labels/hqdefault.txt',\n",
              "   '/content/MyDrive/MyDrive/IAT481/481 CV Project/Datasets/Ours/Bear/labels/hero3_1032346_final.txt',\n",
              "   '/content/MyDrive/MyDrive/IAT481/481 CV Project/Datasets/Ours/Bear/labels/31719703_web1_201126-CAN-wild-safe-bear_1.txt',\n",
              "   '/content/MyDrive/MyDrive/IAT481/481 CV Project/Datasets/Ours/Bear/labels/84feb799-0287-4679-abb5-5f176d841770_750x422.txt',\n",
              "   '/content/MyDrive/MyDrive/IAT481/481 CV Project/Datasets/Ours/Bear/labels/AUG_84feb799-0287-4679-abb5-5f176d841770_750x422.txt',\n",
              "   '/content/MyDrive/MyDrive/IAT481/481 CV Project/Datasets/Ours/Bear/labels/AUG_170925_abc_social_polite_bears_16x9_992.txt',\n",
              "   '/content/MyDrive/MyDrive/IAT481/481 CV Project/Datasets/Ours/Bear/labels/7h2u6tj3h3_brownbear_hero.txt',\n",
              "   '/content/MyDrive/MyDrive/IAT481/481 CV Project/Datasets/Ours/Bear/labels/170925_abc_social_polite_bears_16x9_992.txt',\n",
              "   '/content/MyDrive/MyDrive/IAT481/481 CV Project/Datasets/Ours/Bear/labels/AUG_bear-cub-3-2000-8b30852778c64809a47910f3c4d0e1b6.txt',\n",
              "   '/content/MyDrive/MyDrive/IAT481/481 CV Project/Datasets/Ours/Bear/labels/bear-cub-3-2000-8b30852778c64809a47910f3c4d0e1b6.txt',\n",
              "   '/content/MyDrive/MyDrive/IAT481/481 CV Project/Datasets/Ours/Bear/labels/AUG_images (1).txt',\n",
              "   '/content/MyDrive/MyDrive/IAT481/481 CV Project/Datasets/Ours/Bear/labels/AUG_c23968ec-866f-41fa-9ca5-cb624e2dc782-jumbo3x1_bears1.txt']),\n",
              " 'ours_raccoon': (['/content/MyDrive/MyDrive/IAT481/481 CV Project/Datasets/Ours/Raccoon/images/6-Ways-To-Make-Your-Fence-Raccoon-Proof-1.jpg',\n",
              "   '/content/MyDrive/MyDrive/IAT481/481 CV Project/Datasets/Ours/Raccoon/images/AUG_4KJFGX~8.jpg',\n",
              "   '/content/MyDrive/MyDrive/IAT481/481 CV Project/Datasets/Ours/Raccoon/images/5460-raccoon-2.webp',\n",
              "   '/content/MyDrive/MyDrive/IAT481/481 CV Project/Datasets/Ours/Raccoon/images/55f6d7ecc36188e7128b45db.jpg',\n",
              "   '/content/MyDrive/MyDrive/IAT481/481 CV Project/Datasets/Ours/Raccoon/images/AUG_20130729_040238_jerry-mcdaniel-raccoon.jpg',\n",
              "   '/content/MyDrive/MyDrive/IAT481/481 CV Project/Datasets/Ours/Raccoon/images/AUG_download.jpg',\n",
              "   '/content/MyDrive/MyDrive/IAT481/481 CV Project/Datasets/Ours/Raccoon/images/20130729_040238_jerry-mcdaniel-raccoon.webp',\n",
              "   '/content/MyDrive/MyDrive/IAT481/481 CV Project/Datasets/Ours/Raccoon/images/1ad5ef010a649195741860366041f8ed.jpg',\n",
              "   '/content/MyDrive/MyDrive/IAT481/481 CV Project/Datasets/Ours/Raccoon/images/AUG_raccoon-in-garden-damage.jpg',\n",
              "   '/content/MyDrive/MyDrive/IAT481/481 CV Project/Datasets/Ours/Raccoon/images/AUG_main-qimg-99f2d234a3262cdd061eb695525a32ca-lq.jpg',\n",
              "   '/content/MyDrive/MyDrive/IAT481/481 CV Project/Datasets/Ours/Raccoon/images/s_top.jpg',\n",
              "   '/content/MyDrive/MyDrive/IAT481/481 CV Project/Datasets/Ours/Raccoon/images/raccoon-in-garden-damage.jpg',\n",
              "   '/content/MyDrive/MyDrive/IAT481/481 CV Project/Datasets/Ours/Raccoon/images/main-qimg-99f2d234a3262cdd061eb695525a32ca-lq.jpg',\n",
              "   '/content/MyDrive/MyDrive/IAT481/481 CV Project/Datasets/Ours/Raccoon/images/how-to-get-rid-of-raccoons.webp',\n",
              "   '/content/MyDrive/MyDrive/IAT481/481 CV Project/Datasets/Ours/Raccoon/images/How-to-Keep-Raccoons-out-of-my-trash.webp',\n",
              "   '/content/MyDrive/MyDrive/IAT481/481 CV Project/Datasets/Ours/Raccoon/images/images (2).jpg',\n",
              "   '/content/MyDrive/MyDrive/IAT481/481 CV Project/Datasets/Ours/Raccoon/images/download.jpg',\n",
              "   '/content/MyDrive/MyDrive/IAT481/481 CV Project/Datasets/Ours/Raccoon/images/c7be0e25f9838d2d23048a0f176d8959.jpg',\n",
              "   '/content/MyDrive/MyDrive/IAT481/481 CV Project/Datasets/Ours/Raccoon/images/north-american-raccoon-looking-for-food-in-a-illinois-backyard-usa-BBM1Y8.jpg'],\n",
              "  ['/content/MyDrive/MyDrive/IAT481/481 CV Project/Datasets/Ours/Raccoon/labels/north-american-raccoon-looking-for-food-in-a-illinois-backyard-usa-BBM1Y8.txt',\n",
              "   '/content/MyDrive/MyDrive/IAT481/481 CV Project/Datasets/Ours/Raccoon/labels/download.txt',\n",
              "   '/content/MyDrive/MyDrive/IAT481/481 CV Project/Datasets/Ours/Raccoon/labels/how-to-get-rid-of-raccoons.txt',\n",
              "   '/content/MyDrive/MyDrive/IAT481/481 CV Project/Datasets/Ours/Raccoon/labels/How-to-Keep-Raccoons-out-of-my-trash.txt',\n",
              "   '/content/MyDrive/MyDrive/IAT481/481 CV Project/Datasets/Ours/Raccoon/labels/raccoon-in-garden-damage.txt',\n",
              "   '/content/MyDrive/MyDrive/IAT481/481 CV Project/Datasets/Ours/Raccoon/labels/images (2).txt',\n",
              "   '/content/MyDrive/MyDrive/IAT481/481 CV Project/Datasets/Ours/Raccoon/labels/main-qimg-99f2d234a3262cdd061eb695525a32ca-lq.txt',\n",
              "   '/content/MyDrive/MyDrive/IAT481/481 CV Project/Datasets/Ours/Raccoon/labels/AUG_4KJFGX~8.txt',\n",
              "   '/content/MyDrive/MyDrive/IAT481/481 CV Project/Datasets/Ours/Raccoon/labels/5460-raccoon-2.txt',\n",
              "   '/content/MyDrive/MyDrive/IAT481/481 CV Project/Datasets/Ours/Raccoon/labels/55f6d7ecc36188e7128b45db.txt',\n",
              "   '/content/MyDrive/MyDrive/IAT481/481 CV Project/Datasets/Ours/Raccoon/labels/AUG_download.txt',\n",
              "   '/content/MyDrive/MyDrive/IAT481/481 CV Project/Datasets/Ours/Raccoon/labels/AUG_20130729_040238_jerry-mcdaniel-raccoon.txt',\n",
              "   '/content/MyDrive/MyDrive/IAT481/481 CV Project/Datasets/Ours/Raccoon/labels/6-Ways-To-Make-Your-Fence-Raccoon-Proof-1.txt',\n",
              "   '/content/MyDrive/MyDrive/IAT481/481 CV Project/Datasets/Ours/Raccoon/labels/20130729_040238_jerry-mcdaniel-raccoon.txt',\n",
              "   '/content/MyDrive/MyDrive/IAT481/481 CV Project/Datasets/Ours/Raccoon/labels/s_top.txt',\n",
              "   '/content/MyDrive/MyDrive/IAT481/481 CV Project/Datasets/Ours/Raccoon/labels/c7be0e25f9838d2d23048a0f176d8959.txt',\n",
              "   '/content/MyDrive/MyDrive/IAT481/481 CV Project/Datasets/Ours/Raccoon/labels/AUG_raccoon-in-garden-damage.txt',\n",
              "   '/content/MyDrive/MyDrive/IAT481/481 CV Project/Datasets/Ours/Raccoon/labels/AUG_main-qimg-99f2d234a3262cdd061eb695525a32ca-lq.txt',\n",
              "   '/content/MyDrive/MyDrive/IAT481/481 CV Project/Datasets/Ours/Raccoon/labels/1ad5ef010a649195741860366041f8ed.txt']),\n",
              " 'ours_rat': (['/content/MyDrive/MyDrive/IAT481/481 CV Project/Datasets/Ours/Rat/images/62be5665eeb74405a9e14c71f074af0b.jpg',\n",
              "   '/content/MyDrive/MyDrive/IAT481/481 CV Project/Datasets/Ours/Rat/images/is-this-a-rat-v0-2kmgyd243b2b1.webp',\n",
              "   '/content/MyDrive/MyDrive/IAT481/481 CV Project/Datasets/Ours/Rat/images/AUG_unnamed.jpg',\n",
              "   '/content/MyDrive/MyDrive/IAT481/481 CV Project/Datasets/Ours/Rat/images/Do-Sound-Devices-Get-Rid-of-Rats_.jpeg',\n",
              "   '/content/MyDrive/MyDrive/IAT481/481 CV Project/Datasets/Ours/Rat/images/AUG_1_4918055.jpg',\n",
              "   '/content/MyDrive/MyDrive/IAT481/481 CV Project/Datasets/Ours/Rat/images/3f4119f5-8d21-4c8c-93e4-5de89fa8b405.webp',\n",
              "   '/content/MyDrive/MyDrive/IAT481/481 CV Project/Datasets/Ours/Rat/images/7884f429-c800-4587-93cd-3936034f7946-1015683546_MA_NEW_rats.webp',\n",
              "   '/content/MyDrive/MyDrive/IAT481/481 CV Project/Datasets/Ours/Rat/images/AUG_importedImage103702_header.jpg',\n",
              "   '/content/MyDrive/MyDrive/IAT481/481 CV Project/Datasets/Ours/Rat/images/AUG_JS146411119.jpg',\n",
              "   '/content/MyDrive/MyDrive/IAT481/481 CV Project/Datasets/Ours/Rat/images/1_4918055.jpg',\n",
              "   '/content/MyDrive/MyDrive/IAT481/481 CV Project/Datasets/Ours/Rat/images/5421945_072619-wpvi-rat-invasion-5pm-vid.jpg',\n",
              "   '/content/MyDrive/MyDrive/IAT481/481 CV Project/Datasets/Ours/Rat/images/1793746_1.jpg',\n",
              "   '/content/MyDrive/MyDrive/IAT481/481 CV Project/Datasets/Ours/Rat/images/rats-in-backyard.jpeg',\n",
              "   '/content/MyDrive/MyDrive/IAT481/481 CV Project/Datasets/Ours/Rat/images/PAY-Plague-of-super-rats.webp',\n",
              "   '/content/MyDrive/MyDrive/IAT481/481 CV Project/Datasets/Ours/Rat/images/Squirrel and rat eating birdseed T Bewley.jpg',\n",
              "   '/content/MyDrive/MyDrive/IAT481/481 CV Project/Datasets/Ours/Rat/images/unnamed.jpg',\n",
              "   '/content/MyDrive/MyDrive/IAT481/481 CV Project/Datasets/Ours/Rat/images/IM_00009_1024_DxO.webp',\n",
              "   '/content/MyDrive/MyDrive/IAT481/481 CV Project/Datasets/Ours/Rat/images/london-is-teaming-with-rats.webp',\n",
              "   '/content/MyDrive/MyDrive/IAT481/481 CV Project/Datasets/Ours/Rat/images/JS146411119.webp',\n",
              "   '/content/MyDrive/MyDrive/IAT481/481 CV Project/Datasets/Ours/Rat/images/importedImage103702_header.jpg'],\n",
              "  ['/content/MyDrive/MyDrive/IAT481/481 CV Project/Datasets/Ours/Rat/labels/62be5665eeb74405a9e14c71f074af0b.txt',\n",
              "   '/content/MyDrive/MyDrive/IAT481/481 CV Project/Datasets/Ours/Rat/labels/AUG_JS146411119.txt',\n",
              "   '/content/MyDrive/MyDrive/IAT481/481 CV Project/Datasets/Ours/Rat/labels/AUG_importedImage103702_header.txt',\n",
              "   '/content/MyDrive/MyDrive/IAT481/481 CV Project/Datasets/Ours/Rat/labels/Do-Sound-Devices-Get-Rid-of-Rats_.txt',\n",
              "   '/content/MyDrive/MyDrive/IAT481/481 CV Project/Datasets/Ours/Rat/labels/AUG_unnamed.txt',\n",
              "   '/content/MyDrive/MyDrive/IAT481/481 CV Project/Datasets/Ours/Rat/labels/7884f429-c800-4587-93cd-3936034f7946-1015683546_MA_NEW_rats.txt',\n",
              "   '/content/MyDrive/MyDrive/IAT481/481 CV Project/Datasets/Ours/Rat/labels/AUG_1_4918055.txt',\n",
              "   '/content/MyDrive/MyDrive/IAT481/481 CV Project/Datasets/Ours/Rat/labels/is-this-a-rat-v0-2kmgyd243b2b1.txt',\n",
              "   '/content/MyDrive/MyDrive/IAT481/481 CV Project/Datasets/Ours/Rat/labels/IM_00009_1024_DxO.txt',\n",
              "   '/content/MyDrive/MyDrive/IAT481/481 CV Project/Datasets/Ours/Rat/labels/importedImage103702_header.txt',\n",
              "   '/content/MyDrive/MyDrive/IAT481/481 CV Project/Datasets/Ours/Rat/labels/5421945_072619-wpvi-rat-invasion-5pm-vid.txt',\n",
              "   '/content/MyDrive/MyDrive/IAT481/481 CV Project/Datasets/Ours/Rat/labels/3f4119f5-8d21-4c8c-93e4-5de89fa8b405.txt',\n",
              "   '/content/MyDrive/MyDrive/IAT481/481 CV Project/Datasets/Ours/Rat/labels/1793746_1.txt',\n",
              "   '/content/MyDrive/MyDrive/IAT481/481 CV Project/Datasets/Ours/Rat/labels/1_4918055.txt',\n",
              "   '/content/MyDrive/MyDrive/IAT481/481 CV Project/Datasets/Ours/Rat/labels/london-is-teaming-with-rats.txt',\n",
              "   '/content/MyDrive/MyDrive/IAT481/481 CV Project/Datasets/Ours/Rat/labels/PAY-Plague-of-super-rats.txt',\n",
              "   '/content/MyDrive/MyDrive/IAT481/481 CV Project/Datasets/Ours/Rat/labels/unnamed.txt',\n",
              "   '/content/MyDrive/MyDrive/IAT481/481 CV Project/Datasets/Ours/Rat/labels/rats-in-backyard.txt',\n",
              "   '/content/MyDrive/MyDrive/IAT481/481 CV Project/Datasets/Ours/Rat/labels/Squirrel and rat eating birdseed T Bewley.txt',\n",
              "   '/content/MyDrive/MyDrive/IAT481/481 CV Project/Datasets/Ours/Rat/labels/JS146411119.txt']),\n",
              " 'ours_skunk': (['/content/MyDrive/MyDrive/IAT481/481 CV Project/Datasets/Ours/Skunk/images/20160809__joan-0810-021.webp',\n",
              "   '/content/MyDrive/MyDrive/IAT481/481 CV Project/Datasets/Ours/Skunk/images/image2s.jpg',\n",
              "   '/content/MyDrive/MyDrive/IAT481/481 CV Project/Datasets/Ours/Skunk/images/AUG_skunk-e1473330301311.jpg',\n",
              "   '/content/MyDrive/MyDrive/IAT481/481 CV Project/Datasets/Ours/Skunk/images/get-rid-of-a-skunk-GettyImages-542802090-e80b72bdbd604518ab10fd19e9bc7f41.jpg',\n",
              "   '/content/MyDrive/MyDrive/IAT481/481 CV Project/Datasets/Ours/Skunk/images/AUG_images.jpg',\n",
              "   '/content/MyDrive/MyDrive/IAT481/481 CV Project/Datasets/Ours/Skunk/images/cdn.kpbs.jpg',\n",
              "   '/content/MyDrive/MyDrive/IAT481/481 CV Project/Datasets/Ours/Skunk/images/images.jpg',\n",
              "   '/content/MyDrive/MyDrive/IAT481/481 CV Project/Datasets/Ours/Skunk/images/39265648_2090372807882795_7810172924245049344_n.jpg',\n",
              "   '/content/MyDrive/MyDrive/IAT481/481 CV Project/Datasets/Ours/Skunk/images/AUG_cdn.kpbs.jpg',\n",
              "   '/content/MyDrive/MyDrive/IAT481/481 CV Project/Datasets/Ours/Skunk/images/AUG_6a00d83452d18969e2017616e77276970c-800wi.jpg',\n",
              "   '/content/MyDrive/MyDrive/IAT481/481 CV Project/Datasets/Ours/Skunk/images/6a00d83452d18969e2017616e77276970c-800wi.jpg',\n",
              "   '/content/MyDrive/MyDrive/IAT481/481 CV Project/Datasets/Ours/Skunk/images/maddy-weiss-900px.jpg',\n",
              "   '/content/MyDrive/MyDrive/IAT481/481 CV Project/Datasets/Ours/Skunk/images/Keep-shunks-away-story-image.webp',\n",
              "   '/content/MyDrive/MyDrive/IAT481/481 CV Project/Datasets/Ours/Skunk/images/ghows-KS-31b759be-0ac4-49d8-a9b6-9cc4bfc05775-171c705d.webp',\n",
              "   '/content/MyDrive/MyDrive/IAT481/481 CV Project/Datasets/Ours/Skunk/images/IMG_0180.JPG',\n",
              "   '/content/MyDrive/MyDrive/IAT481/481 CV Project/Datasets/Ours/Skunk/images/skkunk001.jpg',\n",
              "   '/content/MyDrive/MyDrive/IAT481/481 CV Project/Datasets/Ours/Skunk/images/striped-skunk-game-camera.jpeg',\n",
              "   '/content/MyDrive/MyDrive/IAT481/481 CV Project/Datasets/Ours/Skunk/images/unnamed.jpg',\n",
              "   '/content/MyDrive/MyDrive/IAT481/481 CV Project/Datasets/Ours/Skunk/images/skunk-e1473330301311.jpg',\n",
              "   '/content/MyDrive/MyDrive/IAT481/481 CV Project/Datasets/Ours/Skunk/images/unnamed2.jpg'],\n",
              "  ['/content/MyDrive/MyDrive/IAT481/481 CV Project/Datasets/Ours/Skunk/labels/images.txt',\n",
              "   '/content/MyDrive/MyDrive/IAT481/481 CV Project/Datasets/Ours/Skunk/labels/AUG_6a00d83452d18969e2017616e77276970c-800wi.txt',\n",
              "   '/content/MyDrive/MyDrive/IAT481/481 CV Project/Datasets/Ours/Skunk/labels/6a00d83452d18969e2017616e77276970c-800wi.txt',\n",
              "   '/content/MyDrive/MyDrive/IAT481/481 CV Project/Datasets/Ours/Skunk/labels/20160809__joan-0810-021.txt',\n",
              "   '/content/MyDrive/MyDrive/IAT481/481 CV Project/Datasets/Ours/Skunk/labels/39265648_2090372807882795_7810172924245049344_n.txt',\n",
              "   '/content/MyDrive/MyDrive/IAT481/481 CV Project/Datasets/Ours/Skunk/labels/skkunk001.txt',\n",
              "   '/content/MyDrive/MyDrive/IAT481/481 CV Project/Datasets/Ours/Skunk/labels/Keep-shunks-away-story-image.txt',\n",
              "   '/content/MyDrive/MyDrive/IAT481/481 CV Project/Datasets/Ours/Skunk/labels/get-rid-of-a-skunk-GettyImages-542802090-e80b72bdbd604518ab10fd19e9bc7f41.txt',\n",
              "   '/content/MyDrive/MyDrive/IAT481/481 CV Project/Datasets/Ours/Skunk/labels/unnamed.txt',\n",
              "   '/content/MyDrive/MyDrive/IAT481/481 CV Project/Datasets/Ours/Skunk/labels/image2s.txt',\n",
              "   '/content/MyDrive/MyDrive/IAT481/481 CV Project/Datasets/Ours/Skunk/labels/cdn.kpbs.txt',\n",
              "   '/content/MyDrive/MyDrive/IAT481/481 CV Project/Datasets/Ours/Skunk/labels/AUG_cdn.kpbs.txt',\n",
              "   '/content/MyDrive/MyDrive/IAT481/481 CV Project/Datasets/Ours/Skunk/labels/maddy-weiss-900px.txt',\n",
              "   '/content/MyDrive/MyDrive/IAT481/481 CV Project/Datasets/Ours/Skunk/labels/striped-skunk-game-camera.txt',\n",
              "   '/content/MyDrive/MyDrive/IAT481/481 CV Project/Datasets/Ours/Skunk/labels/skunk-e1473330301311.txt',\n",
              "   '/content/MyDrive/MyDrive/IAT481/481 CV Project/Datasets/Ours/Skunk/labels/ghows-KS-31b759be-0ac4-49d8-a9b6-9cc4bfc05775-171c705d.txt',\n",
              "   '/content/MyDrive/MyDrive/IAT481/481 CV Project/Datasets/Ours/Skunk/labels/AUG_skunk-e1473330301311.txt',\n",
              "   '/content/MyDrive/MyDrive/IAT481/481 CV Project/Datasets/Ours/Skunk/labels/IMG_0180.txt',\n",
              "   '/content/MyDrive/MyDrive/IAT481/481 CV Project/Datasets/Ours/Skunk/labels/unnamed2.txt',\n",
              "   '/content/MyDrive/MyDrive/IAT481/481 CV Project/Datasets/Ours/Skunk/labels/AUG_images.txt'])}"
            ]
          },
          "metadata": {},
          "execution_count": 22
        }
      ]
    }
  ]
}