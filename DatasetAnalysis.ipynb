{
  "nbformat": 4,
  "nbformat_minor": 0,
  "metadata": {
    "colab": {
      "provenance": [],
      "include_colab_link": true
    },
    "kernelspec": {
      "name": "python3",
      "display_name": "Python 3"
    },
    "language_info": {
      "name": "python"
    }
  },
  "cells": [
    {
      "cell_type": "markdown",
      "metadata": {
        "id": "view-in-github",
        "colab_type": "text"
      },
      "source": [
        "<a href=\"https://colab.research.google.com/github/shaaagri/iat481-cv-proj/blob/wip/DatasetAnalysis.ipynb\" target=\"_parent\"><img src=\"https://colab.research.google.com/assets/colab-badge.svg\" alt=\"Open In Colab\"/></a>"
      ]
    },
    {
      "cell_type": "markdown",
      "source": [
        "This notebook is based on Week 6 tutorial, we use it to check, enumerate and analyse our datasets in terms of correct labeling and balance, before doing the training with YOLO."
      ],
      "metadata": {
        "id": "7Le1bvcPKxgI"
      }
    },
    {
      "cell_type": "markdown",
      "source": [
        "Prerequisites:"
      ],
      "metadata": {
        "id": "8jbtjhzVKgid"
      }
    },
    {
      "cell_type": "code",
      "source": [
        "from google.colab import drive\n",
        "drive.mount(\"/content/MyDrive\")"
      ],
      "metadata": {
        "id": "EcopSGdNKgSo",
        "outputId": "95b0a0ba-9b8a-4e20-8784-f9eba1a2fcd1",
        "colab": {
          "base_uri": "https://localhost:8080/"
        }
      },
      "execution_count": 1,
      "outputs": [
        {
          "output_type": "stream",
          "name": "stdout",
          "text": [
            "Mounted at /content/MyDrive\n"
          ]
        }
      ]
    }
  ]
}